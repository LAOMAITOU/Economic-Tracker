{
 "cells": [
  {
   "cell_type": "code",
   "execution_count": 13,
   "metadata": {},
   "outputs": [],
   "source": [
    "import pandas as pd\n",
    "import numpy as np\n",
    "from dash import Dash, html, dcc, Input,Output,dash_table,callback,State\n",
    "import dash_bootstrap_components as dbc\n",
    "from jupyter_dash import JupyterDash"
   ]
  },
  {
   "cell_type": "code",
   "execution_count": 12,
   "metadata": {},
   "outputs": [
    {
     "name": "stdout",
     "output_type": "stream",
     "text": [
      "Dash app running on http://127.0.0.1:8050/\n"
     ]
    }
   ],
   "source": [
    "app=JupyterDash('App')\n",
    "\n",
    "app.layout=html.Div(\n",
    "    style={\n",
    "        'backgroundColor':'#111211',\n",
    "        'background-position':'center'\n",
    "    },\n",
    "    children=[\n",
    "        html.Div(\n",
    "            children=[\n",
    "                html.H1('Hello Dash',style={'color':'#7FDBFF'}),\n",
    "                html.Br(),\n",
    "                html.H2('Dash: Web Dashboards with Python',style={'color':'#6BDBFF'})\n",
    "            ]\n",
    "        ),\n",
    "        html.A('Link to Google', href='http://www.google.com'),\n",
    "        html.Div(html.H1('Second Div'))\n",
    "    ]\n",
    ")\n",
    "\n",
    "if __name__ == '__main__':\n",
    "    app.run_server(mode=\"external\",debug=True)"
   ]
  },
  {
   "cell_type": "code",
   "execution_count": 22,
   "metadata": {},
   "outputs": [
    {
     "name": "stdout",
     "output_type": "stream",
     "text": [
      "Dash app running on http://127.0.0.1:8050/\n"
     ]
    }
   ],
   "source": [
    "app = JupyterDash('Boot', external_stylesheets =[dbc.themes.BOOTSTRAP])\n",
    "\n",
    "app.layout=html.Div(\n",
    "    [\n",
    "        html.H1('Grid'),\n",
    "        dbc.Row([\n",
    "            dbc.Col(html.P('1/2',style={'textAlign':'center'})),\n",
    "            dbc.Col(html.P('2/2',style={'textAlign':'center'}))\n",
    "        ]),\n",
    "        dbc.Row([\n",
    "            dbc.Col(html.P('1/3')),\n",
    "            dbc.Col(html.P('2/3')),\n",
    "            dbc.Col(html.P('3/3'))\n",
    "        ])\n",
    "    ]\n",
    ")\n",
    "\n",
    "if __name__ == '__main__':\n",
    "    app.run_server(mode=\"external\",debug=True)"
   ]
  },
  {
   "cell_type": "code",
   "execution_count": null,
   "metadata": {},
   "outputs": [],
   "source": []
  }
 ],
 "metadata": {
  "kernelspec": {
   "display_name": "board",
   "language": "python",
   "name": "python3"
  },
  "language_info": {
   "codemirror_mode": {
    "name": "ipython",
    "version": 3
   },
   "file_extension": ".py",
   "mimetype": "text/x-python",
   "name": "python",
   "nbconvert_exporter": "python",
   "pygments_lexer": "ipython3",
   "version": "3.9.16"
  },
  "orig_nbformat": 4,
  "vscode": {
   "interpreter": {
    "hash": "82523e984654822cf5dd0da06dbd56dd205edb2da3dcd8b1bd6fe3b14dbea2c8"
   }
  }
 },
 "nbformat": 4,
 "nbformat_minor": 2
}
