{
 "cells": [
  {
   "cell_type": "code",
   "execution_count": 2,
   "metadata": {},
   "outputs": [
    {
     "name": "stdout",
     "output_type": "stream",
     "text": [
      "Dash app running on http://127.0.0.1:8050/\n"
     ]
    }
   ],
   "source": [
    "import pandas as pd\n",
    "import numpy as np\n",
    "from dash import Dash, html, dcc, Input,Output,dash_table,callback,State\n",
    "import dash_bootstrap_components as dbc\n",
    "from jupyter_dash import JupyterDash\n",
    "from fred_data import FredData\n",
    "\n",
    "app = JupyterDash('Boot', external_stylesheets =[dbc.themes.BOOTSTRAP])\n",
    "\n",
    "app.layout=html.Div(\n",
    "    children=[\n",
    "        html.H1('Economic Tracker',style={'color':'#EEEEEE','font-family':'Goudy Old Style','padding-left':'30px','padding-top':'20px'}),\n",
    "        html.H5(id='Name-Of-Graph',style={'color':'#EEEEEE','font-family':'Goudy Old Style','padding-left':'30px','padding-top':'20px'}),\n",
    "        dcc.Graph(id='SP500'),\n",
    "        dcc.Interval(id='interval-component',interval=10*1000,n_intervals=0)\n",
    "    ],\n",
    "    style={'backgroundColor':'#000000'}\n",
    ")\n",
    "\n",
    "@app.callback(\n",
    "    [Output('Name-Of-Graph','children'),Output('SP500','figure')],\n",
    "    [Input('interval-component','n_intervals')]\n",
    ")\n",
    "def update_graph(n):\n",
    "    fred_instance=FredData()\n",
    "    name_of_graph=fred_instance.name\n",
    "    fig=fred_instance.get_data_and_plot()\n",
    "    return name_of_graph,fig\n",
    "\n",
    "if __name__ == '__main__':\n",
    "    app.run_server(mode=\"external\",debug=True)"
   ]
  },
  {
   "cell_type": "code",
   "execution_count": null,
   "metadata": {},
   "outputs": [],
   "source": []
  }
 ],
 "metadata": {
  "kernelspec": {
   "display_name": "board",
   "language": "python",
   "name": "python3"
  },
  "language_info": {
   "codemirror_mode": {
    "name": "ipython",
    "version": 3
   },
   "file_extension": ".py",
   "mimetype": "text/x-python",
   "name": "python",
   "nbconvert_exporter": "python",
   "pygments_lexer": "ipython3",
   "version": "3.9.16"
  },
  "orig_nbformat": 4,
  "vscode": {
   "interpreter": {
    "hash": "82523e984654822cf5dd0da06dbd56dd205edb2da3dcd8b1bd6fe3b14dbea2c8"
   }
  }
 },
 "nbformat": 4,
 "nbformat_minor": 2
}
